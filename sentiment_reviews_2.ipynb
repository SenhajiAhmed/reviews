{
 "cells": [
  {
   "cell_type": "code",
   "execution_count": 1,
   "metadata": {},
   "outputs": [],
   "source": [
    "import pandas as pd\n",
    "import re\n",
    "import contractions\n",
    "import demoji\n",
    "import nltk\n",
    "import matplotlib.pyplot as plt\n",
    "import seaborn as sns\n",
    "import joblib\n",
    "from sklearn.feature_extraction.text import TfidfVectorizer\n",
    "from sklearn.model_selection import train_test_split\n",
    "from sklearn.svm import SVC\n",
    "from sklearn.linear_model import LogisticRegression\n",
    "from sklearn.metrics import (accuracy_score, classification_report, \n",
    "                             confusion_matrix, ConfusionMatrixDisplay)\n",
    "from nltk.corpus import stopwords\n",
    "from nltk.stem import WordNetLemmatizer\n",
    "from nltk.tokenize import word_tokenize"
   ]
  },
  {
   "cell_type": "code",
   "execution_count": null,
   "metadata": {},
   "outputs": [],
   "source": [
    "nltk.download(['punkt', 'stopwords', 'wordnet', 'omw-1.4'])\n",
    "demoji.download_codes()"
   ]
  },
  {
   "cell_type": "code",
   "execution_count": null,
   "metadata": {},
   "outputs": [],
   "source": [
    "df = pd.read_csv('IMDB.csv')\n",
    "print(\"Dataset Shape:\", df.shape)\n",
    "print(\"\\nClass Distribution:\\n\", df['sentiment'].value_counts())"
   ]
  },
  {
   "cell_type": "code",
   "execution_count": null,
   "metadata": {},
   "outputs": [],
   "source": [
    "plt.figure(figsize=(8, 4))\n",
    "sns.countplot(x='sentiment', data=df)\n",
    "plt.title('Sentiment Class Distribution')\n",
    "plt.show()"
   ]
  },
  {
   "cell_type": "code",
   "execution_count": null,
   "metadata": {},
   "outputs": [],
   "source": [
    "def preprocess_text(text):\n",
    "    \"\"\"Comprehensive text cleaning and preprocessing pipeline\"\"\"\n",
    "    # Initial cleaning\n",
    "    text = re.sub(r'http\\S+|www\\S+|https\\S+|<.*?>', '', text)\n",
    "    text = contractions.fix(text)\n",
    "    text = demoji.replace_with_desc(text, sep=\" \")\n",
    "    text = text.lower()\n",
    "    text = re.sub(r'[^a-zA-Z\\s]', '', text)\n",
    "    \n",
    "    # Tokenization and processing\n",
    "    tokens = word_tokenize(text)\n",
    "    stop_words = set(stopwords.words('english'))\n",
    "    lemmatizer = WordNetLemmatizer()\n",
    "    \n",
    "    processed_tokens = [\n",
    "        lemmatizer.lemmatize(word) \n",
    "        for word in tokens \n",
    "        if word not in stop_words and len(word) > 2\n",
    "    ]\n",
    "    \n",
    "    return ' '.join(processed_tokens)"
   ]
  },
  {
   "cell_type": "code",
   "execution_count": null,
   "metadata": {},
   "outputs": [],
   "source": [
    "df['cleaned_review'] = df['review'].apply(preprocess_text)"
   ]
  },
  {
   "cell_type": "code",
   "execution_count": null,
   "metadata": {},
   "outputs": [],
   "source": [
    "X_train, X_temp, y_train, y_temp = train_test_split(\n",
    "    df['cleaned_review'],\n",
    "    df['sentiment'],\n",
    "    test_size=0.2,\n",
    "    stratify=df['sentiment'],\n",
    "    random_state=42\n",
    ")\n",
    "\n",
    "X_val, X_test, y_val, y_test = train_test_split(\n",
    "    X_temp,\n",
    "    y_temp,\n",
    "    test_size=0.5,\n",
    "    stratify=y_temp,\n",
    "    random_state=42\n",
    ")"
   ]
  },
  {
   "cell_type": "code",
   "execution_count": null,
   "metadata": {},
   "outputs": [],
   "source": [
    "tfidf = TfidfVectorizer(\n",
    "    max_features=10000,\n",
    "    ngram_range=(1, 2),\n",
    "    stop_words='english'\n",
    ")\n",
    "X_train_tfidf = tfidf.fit_transform(X_train)\n",
    "X_val_tfidf = tfidf.transform(X_val)\n",
    "X_test_tfidf = tfidf.transform(X_test)"
   ]
  },
  {
   "cell_type": "code",
   "execution_count": null,
   "metadata": {},
   "outputs": [],
   "source": [
    "models = {\n",
    "    'SVM': SVC(kernel='linear', C=1.0, class_weight='balanced', probability=True),\n",
    "    'Logistic Regression': LogisticRegression(class_weight='balanced', max_iter=1000)\n",
    "}"
   ]
  },
  {
   "cell_type": "code",
   "execution_count": null,
   "metadata": {},
   "outputs": [],
   "source": [
    "results = []\n",
    "\n",
    "# Train and evaluate models\n",
    "for model_name, model in models.items():\n",
    "    print(f\"\\n{'='*40}\\nTraining {model_name}...\\n{'='*40}\")\n",
    "    \n",
    "    # Training\n",
    "    model.fit(X_train_tfidf, y_train)\n",
    "    \n",
    "    # Validation predictions\n",
    "    y_val_pred = model.predict(X_val_tfidf)\n",
    "    y_val_prob = model.predict_proba(X_val_tfidf)[:, 1]\n",
    "    \n",
    "    # Store results\n",
    "    results.append({\n",
    "        'Model': model_name,\n",
    "        'Validation Accuracy': accuracy_score(y_val, y_val_pred),\n",
    "        'Classification Report': classification_report(y_val, y_val_pred, output_dict=True)\n",
    "    })\n",
    "    \n",
    "    # Print metrics\n",
    "    print(f\"\\n{model_name} Validation Results:\")\n",
    "    print(f\"Accuracy: {accuracy_score(y_val, y_val_pred):.4f}\")\n",
    "    print(classification_report(y_val, y_val_pred))\n",
    "    \n",
    "    # Confusion matrix\n",
    "    cm = confusion_matrix(y_val, y_val_pred)\n",
    "    disp = ConfusionMatrixDisplay(confusion_matrix=cm, \n",
    "                                display_labels=model.classes_)\n",
    "    disp.plot(cmap='Blues')\n",
    "    plt.title(f'{model_name} Validation Confusion Matrix')\n",
    "    plt.show()\n",
    "\n"
   ]
  },
  {
   "cell_type": "code",
   "execution_count": null,
   "metadata": {},
   "outputs": [],
   "source": [
    "comparison_df = pd.DataFrame(results)"
   ]
  },
  {
   "cell_type": "code",
   "execution_count": null,
   "metadata": {},
   "outputs": [],
   "source": [
    "metrics = []\n",
    "for result in results:\n",
    "    report = result['Classification Report']\n",
    "    metrics.append({\n",
    "        'Model': result['Model'],\n",
    "        'Accuracy': result['Validation Accuracy'],\n",
    "        'Precision (Positive)': report['positive']['precision'],\n",
    "        'Recall (Positive)': report['positive']['recall'],\n",
    "        'F1 (Positive)': report['positive']['f1-score'],\n",
    "        'Precision (Negative)': report['negative']['precision'],\n",
    "        'Recall (Negative)': report['negative']['recall'],\n",
    "        'F1 (Negative)': report['negative']['f1-score']\n",
    "    })\n",
    "\n",
    "metric_df = pd.DataFrame(metrics).set_index('Model')\n",
    "print(\"\\nModel Comparison Metrics:\")\n",
    "print(metric_df.T)"
   ]
  },
  {
   "cell_type": "code",
   "execution_count": null,
   "metadata": {},
   "outputs": [],
   "source": [
    "plt.figure(figsize=(10, 6))\n",
    "metric_df[['Accuracy']].plot(kind='bar', rot=0)\n",
    "plt.title('Model Accuracy Comparison')\n",
    "plt.ylabel('Score')\n",
    "plt.ylim(0.7, 1.0)\n",
    "plt.show()\n"
   ]
  },
  {
   "cell_type": "code",
   "execution_count": null,
   "metadata": {},
   "outputs": [],
   "source": [
    "best_model_name = max(results, key=lambda x: x['Validation Accuracy'])['Model']\n",
    "best_model = models[best_model_name]\n",
    "\n",
    "print(f\"\\n{'='*40}\\nEvaluating Best Model ({best_model_name}) on Test Set\\n{'='*40}\")\n"
   ]
  },
  {
   "cell_type": "code",
   "execution_count": null,
   "metadata": {},
   "outputs": [],
   "source": [
    "y_test_pred = best_model.predict(X_test_tfidf)\n",
    "print(f\"Test Accuracy: {accuracy_score(y_test, y_test_pred):.4f}\")\n",
    "print(classification_report(y_test, y_test_pred))"
   ]
  },
  {
   "cell_type": "code",
   "execution_count": null,
   "metadata": {},
   "outputs": [],
   "source": [
    "joblib.dump(tfidf, 'tfidf_vectorizer.pkl')\n",
    "joblib.dump(best_model, 'best_model.pkl')"
   ]
  },
  {
   "cell_type": "code",
   "execution_count": null,
   "metadata": {},
   "outputs": [],
   "source": [
    "def predict_sentiment(text, model=best_model):\n",
    "    \"\"\"End-to-end sentiment prediction pipeline\"\"\"\n",
    "    cleaned_text = preprocess_text(text)\n",
    "    vectorized_text = tfidf.transform([cleaned_text])\n",
    "    return model.predict(vectorized_text)[0]"
   ]
  },
  {
   "cell_type": "code",
   "execution_count": null,
   "metadata": {},
   "outputs": [],
   "source": [
    "test_reviews = [\n",
    "    \"This movie was an absolute masterpiece! The acting was superb.\",\n",
    "    \"Terrible experience from start to finish. Waste of money.\",\n",
    "    \"The product works okay, but nothing special for the price.\"\n",
    "]\n",
    "\n",
    "print(\"\\nSample Predictions:\")\n",
    "for review in test_reviews:\n",
    "    prediction = predict_sentiment(review)\n",
    "    print(f\"\\nReview: {review}\\nPredicted Sentiment: {prediction}\")\n",
    "    print(\"-\"*60)"
   ]
  }
 ],
 "metadata": {
  "kernelspec": {
   "display_name": "base",
   "language": "python",
   "name": "python3"
  },
  "language_info": {
   "codemirror_mode": {
    "name": "ipython",
    "version": 3
   },
   "file_extension": ".py",
   "mimetype": "text/x-python",
   "name": "python",
   "nbconvert_exporter": "python",
   "pygments_lexer": "ipython3",
   "version": "3.12.4"
  }
 },
 "nbformat": 4,
 "nbformat_minor": 2
}
